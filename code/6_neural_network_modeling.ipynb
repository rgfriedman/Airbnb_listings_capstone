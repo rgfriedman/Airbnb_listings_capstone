{
  "nbformat": 4,
  "nbformat_minor": 0,
  "metadata": {
    "colab": {
      "name": "6_neural_network_modeling.ipynb",
      "provenance": []
    },
    "kernelspec": {
      "name": "python3",
      "display_name": "Python 3"
    },
    "language_info": {
      "name": "python"
    }
  },
  "cells": [
    {
      "cell_type": "markdown",
      "metadata": {
        "id": "YRql9YjD24Av"
      },
      "source": [
        "**Airbnb DC Hosting Helper**"
      ]
    },
    {
      "cell_type": "markdown",
      "metadata": {
        "id": "tmi-nMWw3D0R"
      },
      "source": [
        "**6_neural_network_modeling**"
      ]
    },
    {
      "cell_type": "markdown",
      "metadata": {
        "id": "KWPGSqtQ3D-I"
      },
      "source": [
        "**Summary**\n",
        "\n",
        "This notebook will explore using Neural Network modeling on this binary classification problem to see how it compares with other types of classification models. This notebook was created in Google Colab which is why it is a separate notebook in the modeling phase. "
      ]
    },
    {
      "cell_type": "markdown",
      "metadata": {
        "id": "IdUBtNJsy5r2"
      },
      "source": [
        "Import libraries and read in data"
      ]
    },
    {
      "cell_type": "code",
      "metadata": {
        "id": "jHUbVxhmuCPD"
      },
      "source": [
        "import numpy as np\n",
        "import pandas as pd\n",
        "import matplotlib.pyplot as plt\n",
        "import seaborn as sns\n",
        "import pickle\n",
        "from sklearn.model_selection import train_test_split\n",
        "from sklearn.preprocessing import StandardScaler, OneHotEncoder\n",
        "from sklearn import metrics\n",
        "import tensorflow as tf\n",
        "from tensorflow.keras.models import Sequential\n",
        "from tensorflow.keras.layers import Dense, Dropout\n",
        "from tensorflow.keras.callbacks import EarlyStopping"
      ],
      "execution_count": 37,
      "outputs": []
    },
    {
      "cell_type": "code",
      "metadata": {
        "colab": {
          "base_uri": "https://localhost:8080/"
        },
        "id": "E5FnInAKuQIB",
        "outputId": "09b866c3-3e71-470e-c6ab-a0e5791ade14"
      },
      "source": [
        "from google.colab import drive\n",
        "drive.mount('/content/drive')"
      ],
      "execution_count": 4,
      "outputs": [
        {
          "output_type": "stream",
          "name": "stdout",
          "text": [
            "Drive already mounted at /content/drive; to attempt to forcibly remount, call drive.mount(\"/content/drive\", force_remount=True).\n"
          ]
        }
      ]
    },
    {
      "cell_type": "code",
      "metadata": {
        "id": "GZuCxcz9vkez"
      },
      "source": [
        "df = pd.read_csv('/content/drive/MyDrive/final_df.csv')"
      ],
      "execution_count": 6,
      "outputs": []
    },
    {
      "cell_type": "code",
      "metadata": {
        "colab": {
          "base_uri": "https://localhost:8080/"
        },
        "id": "XJMYxZNMvka8",
        "outputId": "1e417232-e119-421f-ea8e-8003da683512"
      },
      "source": [
        "df.info()"
      ],
      "execution_count": 7,
      "outputs": [
        {
          "output_type": "stream",
          "name": "stdout",
          "text": [
            "<class 'pandas.core.frame.DataFrame'>\n",
            "RangeIndex: 3652 entries, 0 to 3651\n",
            "Data columns (total 100 columns):\n",
            " #   Column                                    Non-Null Count  Dtype  \n",
            "---  ------                                    --------------  -----  \n",
            " 0   Unnamed: 0                                3652 non-null   int64  \n",
            " 1   id                                        3652 non-null   int64  \n",
            " 2   name                                      3652 non-null   object \n",
            " 3   description                               3609 non-null   object \n",
            " 4   neighborhood_overview                     2794 non-null   object \n",
            " 5   host_id                                   3652 non-null   int64  \n",
            " 6   host_about                                2529 non-null   object \n",
            " 7   host_response_time                        3652 non-null   object \n",
            " 8   host_response_rate                        3652 non-null   float64\n",
            " 9   host_acceptance_rate                      3652 non-null   float64\n",
            " 10  host_is_superhost                         3652 non-null   int64  \n",
            " 11  host_has_profile_pic                      3652 non-null   int64  \n",
            " 12  host_identity_verified                    3652 non-null   int64  \n",
            " 13  neighbourhood_cleansed                    3652 non-null   object \n",
            " 14  latitude_x                                3652 non-null   float64\n",
            " 15  longitude_x                               3652 non-null   float64\n",
            " 16  room_type                                 3652 non-null   object \n",
            " 17  accommodates                              3652 non-null   int64  \n",
            " 18  bathrooms                                 3652 non-null   float64\n",
            " 19  bedrooms                                  3652 non-null   float64\n",
            " 20  beds                                      3652 non-null   float64\n",
            " 21  amenities                                 3652 non-null   object \n",
            " 22  price                                     3652 non-null   float64\n",
            " 23  minimum_nights                            3652 non-null   int64  \n",
            " 24  maximum_nights                            3652 non-null   int64  \n",
            " 25  minimum_nights_avg_ntm                    3652 non-null   float64\n",
            " 26  maximum_nights_avg_ntm                    3652 non-null   float64\n",
            " 27  availability_30                           3652 non-null   int64  \n",
            " 28  availability_60                           3652 non-null   int64  \n",
            " 29  availability_90                           3652 non-null   int64  \n",
            " 30  availability_365                          3652 non-null   int64  \n",
            " 31  instant_bookable                          3652 non-null   int64  \n",
            " 32  calculated_host_listings_count            3652 non-null   int64  \n",
            " 33  historic site                             3652 non-null   int64  \n",
            " 34  museum                                    3652 non-null   int64  \n",
            " 35  metro                                     3652 non-null   int64  \n",
            " 36  music venue                               3652 non-null   int64  \n",
            " 37  perfomring arts venue                     3652 non-null   int64  \n",
            " 38  college and university                    3652 non-null   int64  \n",
            " 39  food                                      3652 non-null   int64  \n",
            " 40  nightlife spot                            3652 non-null   int64  \n",
            " 41  outdoors and recreation                   3652 non-null   int64  \n",
            " 42  government building                       3652 non-null   int64  \n",
            " 43  clothing store                            3652 non-null   int64  \n",
            " 44  popular                                   3652 non-null   int64  \n",
            " 45  days_being_host                           3652 non-null   int64  \n",
            " 46  days_since_first_review                   3652 non-null   int64  \n",
            " 47  days_since_last_review                    3652 non-null   int64  \n",
            " 48  name_word_count                           3652 non-null   int64  \n",
            " 49  name_neutral_sentiment                    3652 non-null   float64\n",
            " 50  name_negative_sentiment                   3652 non-null   float64\n",
            " 51  name_positive_sentiment                   3652 non-null   float64\n",
            " 52  name_compound_sentiment                   3652 non-null   float64\n",
            " 53  description_word_count                    3652 non-null   int64  \n",
            " 54  description_neutral_sentiment             3652 non-null   float64\n",
            " 55  description_negative_sentiment            3652 non-null   float64\n",
            " 56  description_positive_sentiment            3652 non-null   float64\n",
            " 57  description_compound_sentiment            3652 non-null   float64\n",
            " 58  neighborhood_overview_word_count          3652 non-null   int64  \n",
            " 59  neighborhood_overview_neutral_sentiment   3652 non-null   float64\n",
            " 60  neighborhood_overview_negative_sentiment  3652 non-null   float64\n",
            " 61  neighborhood_overview_positive_sentiment  3652 non-null   float64\n",
            " 62  neighborhood_overview_compound_sentiment  3652 non-null   float64\n",
            " 63  host_about_word_count                     3652 non-null   int64  \n",
            " 64  host_about_neutral_sentiment              3652 non-null   float64\n",
            " 65  host_about_negative_sentiment             3652 non-null   float64\n",
            " 66  host_about_positive_sentiment             3652 non-null   float64\n",
            " 67  host_about_compound_sentiment             3652 non-null   float64\n",
            " 68  wifi                                      3652 non-null   int64  \n",
            " 69  smoke alarm                               3652 non-null   int64  \n",
            " 70  essentials                                3652 non-null   int64  \n",
            " 71  heating                                   3652 non-null   int64  \n",
            " 72  air conditioning                          3652 non-null   int64  \n",
            " 73  hangers                                   3652 non-null   int64  \n",
            " 74  iron                                      3652 non-null   int64  \n",
            " 75  kitchen                                   3652 non-null   int64  \n",
            " 76  long term stays allowed                   3652 non-null   int64  \n",
            " 77  hair dryer                                3652 non-null   int64  \n",
            " 78  carbon monoxide alarm                     3652 non-null   int64  \n",
            " 79  hot water                                 3652 non-null   int64  \n",
            " 80  shampoo                                   3652 non-null   int64  \n",
            " 81  dedicated workspace                       3652 non-null   int64  \n",
            " 82  dishes and silverware                     3652 non-null   int64  \n",
            " 83  microwave                                 3652 non-null   int64  \n",
            " 84  washer                                    3652 non-null   int64  \n",
            " 85  dryer                                     3652 non-null   int64  \n",
            " 86  fire extinguisher                         3652 non-null   int64  \n",
            " 87  refrigerator                              3652 non-null   int64  \n",
            " 88  coffee maker                              3652 non-null   int64  \n",
            " 89  cooking basics                            3652 non-null   int64  \n",
            " 90  private entrance                          3652 non-null   int64  \n",
            " 91  bed linens                                3652 non-null   int64  \n",
            " 92  stove                                     3652 non-null   int64  \n",
            " 93  oven                                      3652 non-null   int64  \n",
            " 94  free street parking                       3652 non-null   int64  \n",
            " 95  dishwasher                                3652 non-null   int64  \n",
            " 96  first aid kit                             3652 non-null   int64  \n",
            " 97  extra pillows and blankets                3652 non-null   int64  \n",
            " 98  tv                                        3652 non-null   int64  \n",
            " 99  patio or balcony                          3652 non-null   int64  \n",
            "dtypes: float64(26), int64(66), object(8)\n",
            "memory usage: 2.8+ MB\n"
          ]
        }
      ]
    },
    {
      "cell_type": "markdown",
      "metadata": {
        "id": "fi7jPzbGy-Ng"
      },
      "source": [
        "Clean data before modeling."
      ]
    },
    {
      "cell_type": "code",
      "metadata": {
        "id": "r6wY4pMCvkVB"
      },
      "source": [
        "df.drop(columns = ['Unnamed: 0', 'id', 'host_id',  'amenities', 'latitude_x', 'longitude_x',\n",
        "                   'name', 'description', 'neighborhood_overview', 'host_about'\n",
        "                  ], inplace=True)"
      ],
      "execution_count": 8,
      "outputs": []
    },
    {
      "cell_type": "code",
      "metadata": {
        "id": "QpXEfs7JvkQb"
      },
      "source": [
        "cols = df.columns\n",
        "\n",
        "new_cols = []\n",
        "\n",
        "for i in cols:\n",
        "    new_cols.append(i.replace(' ','_'))"
      ],
      "execution_count": 9,
      "outputs": []
    },
    {
      "cell_type": "code",
      "metadata": {
        "id": "nLiGcbEJvkLC"
      },
      "source": [
        "df.columns = new_cols"
      ],
      "execution_count": 10,
      "outputs": []
    },
    {
      "cell_type": "code",
      "metadata": {
        "id": "Tpybx7I1wDK2"
      },
      "source": [
        "normal = df.drop(columns=  ['host_response_time', 'neighbourhood_cleansed', 'room_type'])\n",
        "\n",
        "ohe_cats = ['host_response_time', 'neighbourhood_cleansed', 'room_type']\n",
        "\n",
        "categorical = df[ohe_cats]"
      ],
      "execution_count": 11,
      "outputs": []
    },
    {
      "cell_type": "code",
      "metadata": {
        "id": "72rdCP5WwDND"
      },
      "source": [
        "enc = OneHotEncoder(drop = 'first', sparse=False)\n",
        "\n",
        "categorical = enc.fit_transform(categorical) "
      ],
      "execution_count": 12,
      "outputs": []
    },
    {
      "cell_type": "code",
      "metadata": {
        "id": "2LDCi65EwDPc"
      },
      "source": [
        "dummy_cat_names = enc.get_feature_names(ohe_cats)\n",
        "\n",
        "categorical_df = pd.DataFrame(categorical, columns=dummy_cat_names)"
      ],
      "execution_count": 13,
      "outputs": []
    },
    {
      "cell_type": "code",
      "metadata": {
        "id": "UC9M_WcCwDRd"
      },
      "source": [
        "df = pd.concat([normal, categorical_df], axis=1)"
      ],
      "execution_count": 14,
      "outputs": []
    },
    {
      "cell_type": "code",
      "metadata": {
        "colab": {
          "base_uri": "https://localhost:8080/",
          "height": 325
        },
        "id": "jl-n2iwwwDUg",
        "outputId": "8d0429ea-10c9-417a-a167-1f5f67f071ee"
      },
      "source": [
        "df.head()"
      ],
      "execution_count": 15,
      "outputs": [
        {
          "output_type": "execute_result",
          "data": {
            "text/html": [
              "<div>\n",
              "<style scoped>\n",
              "    .dataframe tbody tr th:only-of-type {\n",
              "        vertical-align: middle;\n",
              "    }\n",
              "\n",
              "    .dataframe tbody tr th {\n",
              "        vertical-align: top;\n",
              "    }\n",
              "\n",
              "    .dataframe thead th {\n",
              "        text-align: right;\n",
              "    }\n",
              "</style>\n",
              "<table border=\"1\" class=\"dataframe\">\n",
              "  <thead>\n",
              "    <tr style=\"text-align: right;\">\n",
              "      <th></th>\n",
              "      <th>host_response_rate</th>\n",
              "      <th>host_acceptance_rate</th>\n",
              "      <th>host_is_superhost</th>\n",
              "      <th>host_has_profile_pic</th>\n",
              "      <th>host_identity_verified</th>\n",
              "      <th>accommodates</th>\n",
              "      <th>bathrooms</th>\n",
              "      <th>bedrooms</th>\n",
              "      <th>beds</th>\n",
              "      <th>price</th>\n",
              "      <th>minimum_nights</th>\n",
              "      <th>maximum_nights</th>\n",
              "      <th>minimum_nights_avg_ntm</th>\n",
              "      <th>maximum_nights_avg_ntm</th>\n",
              "      <th>availability_30</th>\n",
              "      <th>availability_60</th>\n",
              "      <th>availability_90</th>\n",
              "      <th>availability_365</th>\n",
              "      <th>instant_bookable</th>\n",
              "      <th>calculated_host_listings_count</th>\n",
              "      <th>historic_site</th>\n",
              "      <th>museum</th>\n",
              "      <th>metro</th>\n",
              "      <th>music_venue</th>\n",
              "      <th>perfomring_arts_venue</th>\n",
              "      <th>college_and_university</th>\n",
              "      <th>food</th>\n",
              "      <th>nightlife_spot</th>\n",
              "      <th>outdoors_and_recreation</th>\n",
              "      <th>government_building</th>\n",
              "      <th>clothing_store</th>\n",
              "      <th>popular</th>\n",
              "      <th>days_being_host</th>\n",
              "      <th>days_since_first_review</th>\n",
              "      <th>days_since_last_review</th>\n",
              "      <th>name_word_count</th>\n",
              "      <th>name_neutral_sentiment</th>\n",
              "      <th>name_negative_sentiment</th>\n",
              "      <th>name_positive_sentiment</th>\n",
              "      <th>name_compound_sentiment</th>\n",
              "      <th>...</th>\n",
              "      <th>neighbourhood_cleansed_Capitol Hill, Lincoln Park</th>\n",
              "      <th>neighbourhood_cleansed_Capitol View, Marshall Heights, Benning Heights</th>\n",
              "      <th>neighbourhood_cleansed_Cathedral Heights, McLean Gardens, Glover Park</th>\n",
              "      <th>neighbourhood_cleansed_Cleveland Park, Woodley Park, Massachusetts Avenue Heights, Woodland-Normanstone Terrace</th>\n",
              "      <th>neighbourhood_cleansed_Colonial Village, Shepherd Park, North Portal Estates</th>\n",
              "      <th>neighbourhood_cleansed_Columbia Heights, Mt. Pleasant, Pleasant Plains, Park View</th>\n",
              "      <th>neighbourhood_cleansed_Congress Heights, Bellevue, Washington Highlands</th>\n",
              "      <th>neighbourhood_cleansed_Deanwood, Burrville, Grant Park, Lincoln Heights, Fairmont Heights</th>\n",
              "      <th>neighbourhood_cleansed_Douglas, Shipley Terrace</th>\n",
              "      <th>neighbourhood_cleansed_Downtown, Chinatown, Penn Quarters, Mount Vernon Square, North Capitol Street</th>\n",
              "      <th>neighbourhood_cleansed_Dupont Circle, Connecticut Avenue/K Street</th>\n",
              "      <th>neighbourhood_cleansed_Eastland Gardens, Kenilworth</th>\n",
              "      <th>neighbourhood_cleansed_Edgewood, Bloomingdale, Truxton Circle, Eckington</th>\n",
              "      <th>neighbourhood_cleansed_Fairfax Village, Naylor Gardens, Hillcrest, Summit Park</th>\n",
              "      <th>neighbourhood_cleansed_Friendship Heights, American University Park, Tenleytown</th>\n",
              "      <th>neighbourhood_cleansed_Georgetown, Burleith/Hillandale</th>\n",
              "      <th>neighbourhood_cleansed_Hawthorne, Barnaby Woods, Chevy Chase</th>\n",
              "      <th>neighbourhood_cleansed_Historic Anacostia</th>\n",
              "      <th>neighbourhood_cleansed_Howard University, Le Droit Park, Cardozo/Shaw</th>\n",
              "      <th>neighbourhood_cleansed_Ivy City, Arboretum, Trinidad, Carver Langston</th>\n",
              "      <th>neighbourhood_cleansed_Kalorama Heights, Adams Morgan, Lanier Heights</th>\n",
              "      <th>neighbourhood_cleansed_Lamont Riggs, Queens Chapel, Fort Totten, Pleasant Hill</th>\n",
              "      <th>neighbourhood_cleansed_Mayfair, Hillbrook, Mahaning Heights</th>\n",
              "      <th>neighbourhood_cleansed_Near Southeast, Navy Yard</th>\n",
              "      <th>neighbourhood_cleansed_North Cleveland Park, Forest Hills, Van Ness</th>\n",
              "      <th>neighbourhood_cleansed_North Michigan Park, Michigan Park, University Heights</th>\n",
              "      <th>neighbourhood_cleansed_River Terrace, Benning, Greenway, Dupont Park</th>\n",
              "      <th>neighbourhood_cleansed_Shaw, Logan Circle</th>\n",
              "      <th>neighbourhood_cleansed_Sheridan, Barry Farm, Buena Vista</th>\n",
              "      <th>neighbourhood_cleansed_Southwest Employment Area, Southwest/Waterfront, Fort McNair, Buzzard Point</th>\n",
              "      <th>neighbourhood_cleansed_Spring Valley, Palisades, Wesley Heights, Foxhall Crescent, Foxhall Village, Georgetown Reservoir</th>\n",
              "      <th>neighbourhood_cleansed_Takoma, Brightwood, Manor Park</th>\n",
              "      <th>neighbourhood_cleansed_Twining, Fairlawn, Randle Highlands, Penn Branch, Fort Davis Park, Fort Dupont</th>\n",
              "      <th>neighbourhood_cleansed_Union Station, Stanton Park, Kingman Park</th>\n",
              "      <th>neighbourhood_cleansed_West End, Foggy Bottom, GWU</th>\n",
              "      <th>neighbourhood_cleansed_Woodland/Fort Stanton, Garfield Heights, Knox Hill</th>\n",
              "      <th>neighbourhood_cleansed_Woodridge, Fort Lincoln, Gateway</th>\n",
              "      <th>room_type_Hotel room</th>\n",
              "      <th>room_type_Private room</th>\n",
              "      <th>room_type_Shared room</th>\n",
              "    </tr>\n",
              "  </thead>\n",
              "  <tbody>\n",
              "    <tr>\n",
              "      <th>0</th>\n",
              "      <td>0.8</td>\n",
              "      <td>0.75</td>\n",
              "      <td>0</td>\n",
              "      <td>1</td>\n",
              "      <td>1</td>\n",
              "      <td>1</td>\n",
              "      <td>1.0</td>\n",
              "      <td>1.0</td>\n",
              "      <td>1.0</td>\n",
              "      <td>55.0</td>\n",
              "      <td>2</td>\n",
              "      <td>365</td>\n",
              "      <td>2.0</td>\n",
              "      <td>365.0</td>\n",
              "      <td>1</td>\n",
              "      <td>31</td>\n",
              "      <td>61</td>\n",
              "      <td>336</td>\n",
              "      <td>0</td>\n",
              "      <td>2</td>\n",
              "      <td>1</td>\n",
              "      <td>2</td>\n",
              "      <td>1</td>\n",
              "      <td>0</td>\n",
              "      <td>3</td>\n",
              "      <td>10</td>\n",
              "      <td>25</td>\n",
              "      <td>5</td>\n",
              "      <td>28</td>\n",
              "      <td>21</td>\n",
              "      <td>5</td>\n",
              "      <td>0</td>\n",
              "      <td>4610</td>\n",
              "      <td>2576</td>\n",
              "      <td>180</td>\n",
              "      <td>3</td>\n",
              "      <td>1.000</td>\n",
              "      <td>0.0</td>\n",
              "      <td>0.000</td>\n",
              "      <td>0.0000</td>\n",
              "      <td>...</td>\n",
              "      <td>0.0</td>\n",
              "      <td>0.0</td>\n",
              "      <td>0.0</td>\n",
              "      <td>0.0</td>\n",
              "      <td>0.0</td>\n",
              "      <td>0.0</td>\n",
              "      <td>0.0</td>\n",
              "      <td>0.0</td>\n",
              "      <td>0.0</td>\n",
              "      <td>0.0</td>\n",
              "      <td>0.0</td>\n",
              "      <td>0.0</td>\n",
              "      <td>0.0</td>\n",
              "      <td>0.0</td>\n",
              "      <td>0.0</td>\n",
              "      <td>0.0</td>\n",
              "      <td>0.0</td>\n",
              "      <td>1.0</td>\n",
              "      <td>0.0</td>\n",
              "      <td>0.0</td>\n",
              "      <td>0.0</td>\n",
              "      <td>0.0</td>\n",
              "      <td>0.0</td>\n",
              "      <td>0.0</td>\n",
              "      <td>0.0</td>\n",
              "      <td>0.0</td>\n",
              "      <td>0.0</td>\n",
              "      <td>0.0</td>\n",
              "      <td>0.0</td>\n",
              "      <td>0.0</td>\n",
              "      <td>0.0</td>\n",
              "      <td>0.0</td>\n",
              "      <td>0.0</td>\n",
              "      <td>0.0</td>\n",
              "      <td>0.0</td>\n",
              "      <td>0.0</td>\n",
              "      <td>0.0</td>\n",
              "      <td>0.0</td>\n",
              "      <td>1.0</td>\n",
              "      <td>0.0</td>\n",
              "    </tr>\n",
              "    <tr>\n",
              "      <th>1</th>\n",
              "      <td>1.0</td>\n",
              "      <td>0.93</td>\n",
              "      <td>0</td>\n",
              "      <td>1</td>\n",
              "      <td>1</td>\n",
              "      <td>2</td>\n",
              "      <td>1.0</td>\n",
              "      <td>1.0</td>\n",
              "      <td>2.0</td>\n",
              "      <td>97.0</td>\n",
              "      <td>7</td>\n",
              "      <td>200</td>\n",
              "      <td>7.0</td>\n",
              "      <td>1125.0</td>\n",
              "      <td>9</td>\n",
              "      <td>20</td>\n",
              "      <td>50</td>\n",
              "      <td>140</td>\n",
              "      <td>0</td>\n",
              "      <td>43</td>\n",
              "      <td>2</td>\n",
              "      <td>1</td>\n",
              "      <td>0</td>\n",
              "      <td>0</td>\n",
              "      <td>1</td>\n",
              "      <td>40</td>\n",
              "      <td>18</td>\n",
              "      <td>4</td>\n",
              "      <td>29</td>\n",
              "      <td>6</td>\n",
              "      <td>0</td>\n",
              "      <td>1</td>\n",
              "      <td>4437</td>\n",
              "      <td>1912</td>\n",
              "      <td>16</td>\n",
              "      <td>6</td>\n",
              "      <td>0.325</td>\n",
              "      <td>0.0</td>\n",
              "      <td>0.675</td>\n",
              "      <td>0.8519</td>\n",
              "      <td>...</td>\n",
              "      <td>0.0</td>\n",
              "      <td>0.0</td>\n",
              "      <td>0.0</td>\n",
              "      <td>0.0</td>\n",
              "      <td>0.0</td>\n",
              "      <td>0.0</td>\n",
              "      <td>0.0</td>\n",
              "      <td>0.0</td>\n",
              "      <td>0.0</td>\n",
              "      <td>0.0</td>\n",
              "      <td>0.0</td>\n",
              "      <td>0.0</td>\n",
              "      <td>0.0</td>\n",
              "      <td>0.0</td>\n",
              "      <td>0.0</td>\n",
              "      <td>0.0</td>\n",
              "      <td>0.0</td>\n",
              "      <td>0.0</td>\n",
              "      <td>0.0</td>\n",
              "      <td>0.0</td>\n",
              "      <td>0.0</td>\n",
              "      <td>0.0</td>\n",
              "      <td>0.0</td>\n",
              "      <td>0.0</td>\n",
              "      <td>0.0</td>\n",
              "      <td>0.0</td>\n",
              "      <td>0.0</td>\n",
              "      <td>0.0</td>\n",
              "      <td>0.0</td>\n",
              "      <td>0.0</td>\n",
              "      <td>1.0</td>\n",
              "      <td>0.0</td>\n",
              "      <td>0.0</td>\n",
              "      <td>0.0</td>\n",
              "      <td>0.0</td>\n",
              "      <td>0.0</td>\n",
              "      <td>0.0</td>\n",
              "      <td>0.0</td>\n",
              "      <td>0.0</td>\n",
              "      <td>0.0</td>\n",
              "    </tr>\n",
              "    <tr>\n",
              "      <th>2</th>\n",
              "      <td>1.0</td>\n",
              "      <td>0.35</td>\n",
              "      <td>0</td>\n",
              "      <td>1</td>\n",
              "      <td>1</td>\n",
              "      <td>4</td>\n",
              "      <td>1.0</td>\n",
              "      <td>1.0</td>\n",
              "      <td>2.0</td>\n",
              "      <td>185.0</td>\n",
              "      <td>2</td>\n",
              "      <td>180</td>\n",
              "      <td>2.0</td>\n",
              "      <td>180.0</td>\n",
              "      <td>17</td>\n",
              "      <td>47</td>\n",
              "      <td>76</td>\n",
              "      <td>76</td>\n",
              "      <td>0</td>\n",
              "      <td>2</td>\n",
              "      <td>36</td>\n",
              "      <td>28</td>\n",
              "      <td>2</td>\n",
              "      <td>15</td>\n",
              "      <td>46</td>\n",
              "      <td>44</td>\n",
              "      <td>50</td>\n",
              "      <td>50</td>\n",
              "      <td>45</td>\n",
              "      <td>48</td>\n",
              "      <td>47</td>\n",
              "      <td>0</td>\n",
              "      <td>4346</td>\n",
              "      <td>2223</td>\n",
              "      <td>19</td>\n",
              "      <td>4</td>\n",
              "      <td>0.455</td>\n",
              "      <td>0.0</td>\n",
              "      <td>0.545</td>\n",
              "      <td>0.5574</td>\n",
              "      <td>...</td>\n",
              "      <td>0.0</td>\n",
              "      <td>0.0</td>\n",
              "      <td>0.0</td>\n",
              "      <td>0.0</td>\n",
              "      <td>0.0</td>\n",
              "      <td>0.0</td>\n",
              "      <td>0.0</td>\n",
              "      <td>0.0</td>\n",
              "      <td>0.0</td>\n",
              "      <td>0.0</td>\n",
              "      <td>1.0</td>\n",
              "      <td>0.0</td>\n",
              "      <td>0.0</td>\n",
              "      <td>0.0</td>\n",
              "      <td>0.0</td>\n",
              "      <td>0.0</td>\n",
              "      <td>0.0</td>\n",
              "      <td>0.0</td>\n",
              "      <td>0.0</td>\n",
              "      <td>0.0</td>\n",
              "      <td>0.0</td>\n",
              "      <td>0.0</td>\n",
              "      <td>0.0</td>\n",
              "      <td>0.0</td>\n",
              "      <td>0.0</td>\n",
              "      <td>0.0</td>\n",
              "      <td>0.0</td>\n",
              "      <td>0.0</td>\n",
              "      <td>0.0</td>\n",
              "      <td>0.0</td>\n",
              "      <td>0.0</td>\n",
              "      <td>0.0</td>\n",
              "      <td>0.0</td>\n",
              "      <td>0.0</td>\n",
              "      <td>0.0</td>\n",
              "      <td>0.0</td>\n",
              "      <td>0.0</td>\n",
              "      <td>0.0</td>\n",
              "      <td>0.0</td>\n",
              "      <td>0.0</td>\n",
              "    </tr>\n",
              "    <tr>\n",
              "      <th>3</th>\n",
              "      <td>1.0</td>\n",
              "      <td>1.00</td>\n",
              "      <td>0</td>\n",
              "      <td>1</td>\n",
              "      <td>1</td>\n",
              "      <td>4</td>\n",
              "      <td>1.0</td>\n",
              "      <td>1.0</td>\n",
              "      <td>3.0</td>\n",
              "      <td>125.0</td>\n",
              "      <td>1</td>\n",
              "      <td>365</td>\n",
              "      <td>1.0</td>\n",
              "      <td>1125.0</td>\n",
              "      <td>12</td>\n",
              "      <td>42</td>\n",
              "      <td>72</td>\n",
              "      <td>347</td>\n",
              "      <td>1</td>\n",
              "      <td>4</td>\n",
              "      <td>5</td>\n",
              "      <td>0</td>\n",
              "      <td>0</td>\n",
              "      <td>1</td>\n",
              "      <td>4</td>\n",
              "      <td>17</td>\n",
              "      <td>48</td>\n",
              "      <td>27</td>\n",
              "      <td>44</td>\n",
              "      <td>24</td>\n",
              "      <td>2</td>\n",
              "      <td>0</td>\n",
              "      <td>4347</td>\n",
              "      <td>3929</td>\n",
              "      <td>23</td>\n",
              "      <td>3</td>\n",
              "      <td>1.000</td>\n",
              "      <td>0.0</td>\n",
              "      <td>0.000</td>\n",
              "      <td>0.0000</td>\n",
              "      <td>...</td>\n",
              "      <td>0.0</td>\n",
              "      <td>0.0</td>\n",
              "      <td>1.0</td>\n",
              "      <td>0.0</td>\n",
              "      <td>0.0</td>\n",
              "      <td>0.0</td>\n",
              "      <td>0.0</td>\n",
              "      <td>0.0</td>\n",
              "      <td>0.0</td>\n",
              "      <td>0.0</td>\n",
              "      <td>0.0</td>\n",
              "      <td>0.0</td>\n",
              "      <td>0.0</td>\n",
              "      <td>0.0</td>\n",
              "      <td>0.0</td>\n",
              "      <td>0.0</td>\n",
              "      <td>0.0</td>\n",
              "      <td>0.0</td>\n",
              "      <td>0.0</td>\n",
              "      <td>0.0</td>\n",
              "      <td>0.0</td>\n",
              "      <td>0.0</td>\n",
              "      <td>0.0</td>\n",
              "      <td>0.0</td>\n",
              "      <td>0.0</td>\n",
              "      <td>0.0</td>\n",
              "      <td>0.0</td>\n",
              "      <td>0.0</td>\n",
              "      <td>0.0</td>\n",
              "      <td>0.0</td>\n",
              "      <td>0.0</td>\n",
              "      <td>0.0</td>\n",
              "      <td>0.0</td>\n",
              "      <td>0.0</td>\n",
              "      <td>0.0</td>\n",
              "      <td>0.0</td>\n",
              "      <td>0.0</td>\n",
              "      <td>0.0</td>\n",
              "      <td>0.0</td>\n",
              "      <td>0.0</td>\n",
              "    </tr>\n",
              "    <tr>\n",
              "      <th>4</th>\n",
              "      <td>1.0</td>\n",
              "      <td>1.00</td>\n",
              "      <td>0</td>\n",
              "      <td>1</td>\n",
              "      <td>1</td>\n",
              "      <td>2</td>\n",
              "      <td>1.5</td>\n",
              "      <td>1.0</td>\n",
              "      <td>1.0</td>\n",
              "      <td>61.0</td>\n",
              "      <td>1</td>\n",
              "      <td>365</td>\n",
              "      <td>1.0</td>\n",
              "      <td>1125.0</td>\n",
              "      <td>19</td>\n",
              "      <td>49</td>\n",
              "      <td>79</td>\n",
              "      <td>354</td>\n",
              "      <td>1</td>\n",
              "      <td>4</td>\n",
              "      <td>5</td>\n",
              "      <td>0</td>\n",
              "      <td>0</td>\n",
              "      <td>1</td>\n",
              "      <td>4</td>\n",
              "      <td>17</td>\n",
              "      <td>48</td>\n",
              "      <td>27</td>\n",
              "      <td>44</td>\n",
              "      <td>24</td>\n",
              "      <td>2</td>\n",
              "      <td>0</td>\n",
              "      <td>4347</td>\n",
              "      <td>2121</td>\n",
              "      <td>28</td>\n",
              "      <td>4</td>\n",
              "      <td>1.000</td>\n",
              "      <td>0.0</td>\n",
              "      <td>0.000</td>\n",
              "      <td>0.0000</td>\n",
              "      <td>...</td>\n",
              "      <td>0.0</td>\n",
              "      <td>0.0</td>\n",
              "      <td>1.0</td>\n",
              "      <td>0.0</td>\n",
              "      <td>0.0</td>\n",
              "      <td>0.0</td>\n",
              "      <td>0.0</td>\n",
              "      <td>0.0</td>\n",
              "      <td>0.0</td>\n",
              "      <td>0.0</td>\n",
              "      <td>0.0</td>\n",
              "      <td>0.0</td>\n",
              "      <td>0.0</td>\n",
              "      <td>0.0</td>\n",
              "      <td>0.0</td>\n",
              "      <td>0.0</td>\n",
              "      <td>0.0</td>\n",
              "      <td>0.0</td>\n",
              "      <td>0.0</td>\n",
              "      <td>0.0</td>\n",
              "      <td>0.0</td>\n",
              "      <td>0.0</td>\n",
              "      <td>0.0</td>\n",
              "      <td>0.0</td>\n",
              "      <td>0.0</td>\n",
              "      <td>0.0</td>\n",
              "      <td>0.0</td>\n",
              "      <td>0.0</td>\n",
              "      <td>0.0</td>\n",
              "      <td>0.0</td>\n",
              "      <td>0.0</td>\n",
              "      <td>0.0</td>\n",
              "      <td>0.0</td>\n",
              "      <td>0.0</td>\n",
              "      <td>0.0</td>\n",
              "      <td>0.0</td>\n",
              "      <td>0.0</td>\n",
              "      <td>0.0</td>\n",
              "      <td>1.0</td>\n",
              "      <td>0.0</td>\n",
              "    </tr>\n",
              "  </tbody>\n",
              "</table>\n",
              "<p>5 rows × 132 columns</p>\n",
              "</div>"
            ],
            "text/plain": [
              "   host_response_rate  ...  room_type_Shared room\n",
              "0                 0.8  ...                    0.0\n",
              "1                 1.0  ...                    0.0\n",
              "2                 1.0  ...                    0.0\n",
              "3                 1.0  ...                    0.0\n",
              "4                 1.0  ...                    0.0\n",
              "\n",
              "[5 rows x 132 columns]"
            ]
          },
          "metadata": {},
          "execution_count": 15
        }
      ]
    },
    {
      "cell_type": "code",
      "metadata": {
        "colab": {
          "base_uri": "https://localhost:8080/"
        },
        "id": "px6UDk2pwQWT",
        "outputId": "dd9ee362-2470-48a9-dcd4-ae031ca690db"
      },
      "source": [
        "df.shape"
      ],
      "execution_count": 16,
      "outputs": [
        {
          "output_type": "execute_result",
          "data": {
            "text/plain": [
              "(3652, 132)"
            ]
          },
          "metadata": {},
          "execution_count": 16
        }
      ]
    },
    {
      "cell_type": "markdown",
      "metadata": {
        "id": "zunA1XWPzCA7"
      },
      "source": [
        "Baseline score to know for modeling."
      ]
    },
    {
      "cell_type": "code",
      "metadata": {
        "colab": {
          "base_uri": "https://localhost:8080/"
        },
        "id": "dzcsdyDMwUMS",
        "outputId": "a4a0dfe2-d609-4c69-cab2-8af542ce8ec4"
      },
      "source": [
        "df['popular'].value_counts(normalize=True)"
      ],
      "execution_count": 17,
      "outputs": [
        {
          "output_type": "execute_result",
          "data": {
            "text/plain": [
              "0    0.776835\n",
              "1    0.223165\n",
              "Name: popular, dtype: float64"
            ]
          },
          "metadata": {},
          "execution_count": 17
        }
      ]
    },
    {
      "cell_type": "markdown",
      "metadata": {
        "id": "4DLcDYlKzETz"
      },
      "source": [
        "Split data into training and testing groups and scale data"
      ]
    },
    {
      "cell_type": "code",
      "metadata": {
        "id": "eMYPB8MKw4Eh"
      },
      "source": [
        "X = df.drop(columns=['popular'])\n",
        "y = df['popular']\n",
        "\n",
        "X_train, X_test, y_train, y_test = train_test_split(X, y, stratify = y )"
      ],
      "execution_count": 19,
      "outputs": []
    },
    {
      "cell_type": "code",
      "metadata": {
        "id": "9fc-LTTWw4UW"
      },
      "source": [
        "sc = StandardScaler()\n",
        "\n",
        "X_train_sc = sc.fit_transform(X_train)\n",
        "\n",
        "X_test_sc = sc.transform(X_test)"
      ],
      "execution_count": 20,
      "outputs": []
    },
    {
      "cell_type": "markdown",
      "metadata": {
        "id": "vmVaoVoPzH_w"
      },
      "source": [
        "Set random seed, create and fit model. "
      ]
    },
    {
      "cell_type": "code",
      "metadata": {
        "id": "2SHh0CKlw0kT"
      },
      "source": [
        "tf.random.set_seed(13)"
      ],
      "execution_count": 21,
      "outputs": []
    },
    {
      "cell_type": "code",
      "metadata": {
        "colab": {
          "base_uri": "https://localhost:8080/"
        },
        "id": "4GQ92e9uxGJq",
        "outputId": "d009446f-69c8-44a5-ba4b-2185bce90483"
      },
      "source": [
        "n_input = X_train_sc.shape[1]\n",
        "\n",
        "n_input"
      ],
      "execution_count": 22,
      "outputs": [
        {
          "output_type": "execute_result",
          "data": {
            "text/plain": [
              "131"
            ]
          },
          "metadata": {},
          "execution_count": 22
        }
      ]
    },
    {
      "cell_type": "code",
      "metadata": {
        "id": "Mheae4C5xGLo"
      },
      "source": [
        "#network type, feet foward, fully squential network for binary classification\n",
        "\n",
        "model = Sequential()\n",
        "\n",
        "#layer1\n",
        "model.add(Dense(n_input, input_shape= (n_input,) , activation='relu'))\n",
        "\n",
        "#layer 2\n",
        "model.add(Dense(n_input, activation='relu'))\n",
        "\n",
        "#layer 3\n",
        "model.add(Dense(1, activation='sigmoid'))"
      ],
      "execution_count": 23,
      "outputs": []
    },
    {
      "cell_type": "code",
      "metadata": {
        "id": "f-HjLNeZxGOO"
      },
      "source": [
        "model.compile(loss='binary_crossentropy', metrics=['accuracy'], optimizer='adam')"
      ],
      "execution_count": 24,
      "outputs": []
    },
    {
      "cell_type": "code",
      "metadata": {
        "colab": {
          "base_uri": "https://localhost:8080/"
        },
        "id": "3E5LKtxyxGQj",
        "outputId": "c00d2085-be09-4170-d2a1-36e829b50244"
      },
      "source": [
        "h = model.fit(X_train_sc, y_train, validation_data = (X_test_sc, y_test), epochs = 100, batch_size=512);"
      ],
      "execution_count": 25,
      "outputs": [
        {
          "output_type": "stream",
          "name": "stdout",
          "text": [
            "Epoch 1/100\n",
            "6/6 [==============================] - 1s 36ms/step - loss: 0.5905 - accuracy: 0.6871 - val_loss: 26.5437 - val_accuracy: 0.7766\n",
            "Epoch 2/100\n",
            "6/6 [==============================] - 0s 8ms/step - loss: 0.4921 - accuracy: 0.7769 - val_loss: 29.3149 - val_accuracy: 0.7777\n",
            "Epoch 3/100\n",
            "6/6 [==============================] - 0s 8ms/step - loss: 0.4263 - accuracy: 0.7977 - val_loss: 23.3438 - val_accuracy: 0.7908\n",
            "Epoch 4/100\n",
            "6/6 [==============================] - 0s 7ms/step - loss: 0.4021 - accuracy: 0.8258 - val_loss: 28.3594 - val_accuracy: 0.7974\n",
            "Epoch 5/100\n",
            "6/6 [==============================] - 0s 8ms/step - loss: 0.3688 - accuracy: 0.8339 - val_loss: 39.3398 - val_accuracy: 0.8094\n",
            "Epoch 6/100\n",
            "6/6 [==============================] - 0s 7ms/step - loss: 0.3474 - accuracy: 0.8386 - val_loss: 42.3731 - val_accuracy: 0.8182\n",
            "Epoch 7/100\n",
            "6/6 [==============================] - 0s 7ms/step - loss: 0.3262 - accuracy: 0.8558 - val_loss: 44.1546 - val_accuracy: 0.8226\n",
            "Epoch 8/100\n",
            "6/6 [==============================] - 0s 8ms/step - loss: 0.3084 - accuracy: 0.8649 - val_loss: 50.1546 - val_accuracy: 0.8302\n",
            "Epoch 9/100\n",
            "6/6 [==============================] - 0s 8ms/step - loss: 0.2926 - accuracy: 0.8708 - val_loss: 54.6395 - val_accuracy: 0.8324\n",
            "Epoch 10/100\n",
            "6/6 [==============================] - 0s 7ms/step - loss: 0.2798 - accuracy: 0.8784 - val_loss: 57.0576 - val_accuracy: 0.8324\n",
            "Epoch 11/100\n",
            "6/6 [==============================] - 0s 7ms/step - loss: 0.2669 - accuracy: 0.8865 - val_loss: 60.1592 - val_accuracy: 0.8379\n",
            "Epoch 12/100\n",
            "6/6 [==============================] - 0s 7ms/step - loss: 0.2559 - accuracy: 0.8963 - val_loss: 61.1125 - val_accuracy: 0.8313\n",
            "Epoch 13/100\n",
            "6/6 [==============================] - 0s 7ms/step - loss: 0.2452 - accuracy: 0.9007 - val_loss: 66.5064 - val_accuracy: 0.8357\n",
            "Epoch 14/100\n",
            "6/6 [==============================] - 0s 7ms/step - loss: 0.2348 - accuracy: 0.9120 - val_loss: 66.4269 - val_accuracy: 0.8302\n",
            "Epoch 15/100\n",
            "6/6 [==============================] - 0s 8ms/step - loss: 0.2248 - accuracy: 0.9153 - val_loss: 73.0013 - val_accuracy: 0.8324\n",
            "Epoch 16/100\n",
            "6/6 [==============================] - 0s 7ms/step - loss: 0.2159 - accuracy: 0.9186 - val_loss: 73.9577 - val_accuracy: 0.8313\n",
            "Epoch 17/100\n",
            "6/6 [==============================] - 0s 8ms/step - loss: 0.2071 - accuracy: 0.9237 - val_loss: 75.8796 - val_accuracy: 0.8335\n",
            "Epoch 18/100\n",
            "6/6 [==============================] - 0s 8ms/step - loss: 0.1984 - accuracy: 0.9288 - val_loss: 79.5841 - val_accuracy: 0.8302\n",
            "Epoch 19/100\n",
            "6/6 [==============================] - 0s 8ms/step - loss: 0.1896 - accuracy: 0.9295 - val_loss: 82.7457 - val_accuracy: 0.8302\n",
            "Epoch 20/100\n",
            "6/6 [==============================] - 0s 8ms/step - loss: 0.1815 - accuracy: 0.9357 - val_loss: 84.2349 - val_accuracy: 0.8324\n",
            "Epoch 21/100\n",
            "6/6 [==============================] - 0s 8ms/step - loss: 0.1718 - accuracy: 0.9401 - val_loss: 85.8201 - val_accuracy: 0.8324\n",
            "Epoch 22/100\n",
            "6/6 [==============================] - 0s 8ms/step - loss: 0.1648 - accuracy: 0.9478 - val_loss: 86.7764 - val_accuracy: 0.8324\n",
            "Epoch 23/100\n",
            "6/6 [==============================] - 0s 8ms/step - loss: 0.1567 - accuracy: 0.9449 - val_loss: 92.0028 - val_accuracy: 0.8291\n",
            "Epoch 24/100\n",
            "6/6 [==============================] - 0s 7ms/step - loss: 0.1488 - accuracy: 0.9500 - val_loss: 95.8587 - val_accuracy: 0.8302\n",
            "Epoch 25/100\n",
            "6/6 [==============================] - 0s 7ms/step - loss: 0.1397 - accuracy: 0.9573 - val_loss: 103.8116 - val_accuracy: 0.8313\n",
            "Epoch 26/100\n",
            "6/6 [==============================] - 0s 7ms/step - loss: 0.1329 - accuracy: 0.9609 - val_loss: 108.2146 - val_accuracy: 0.8280\n",
            "Epoch 27/100\n",
            "6/6 [==============================] - 0s 8ms/step - loss: 0.1251 - accuracy: 0.9657 - val_loss: 112.7551 - val_accuracy: 0.8226\n",
            "Epoch 28/100\n",
            "6/6 [==============================] - 0s 7ms/step - loss: 0.1177 - accuracy: 0.9679 - val_loss: 116.3820 - val_accuracy: 0.8215\n",
            "Epoch 29/100\n",
            "6/6 [==============================] - 0s 8ms/step - loss: 0.1115 - accuracy: 0.9682 - val_loss: 121.8298 - val_accuracy: 0.8248\n",
            "Epoch 30/100\n",
            "6/6 [==============================] - 0s 8ms/step - loss: 0.1037 - accuracy: 0.9730 - val_loss: 123.4981 - val_accuracy: 0.8248\n",
            "Epoch 31/100\n",
            "6/6 [==============================] - 0s 7ms/step - loss: 0.0979 - accuracy: 0.9785 - val_loss: 127.6313 - val_accuracy: 0.8258\n",
            "Epoch 32/100\n",
            "6/6 [==============================] - 0s 7ms/step - loss: 0.0911 - accuracy: 0.9799 - val_loss: 137.1960 - val_accuracy: 0.8280\n",
            "Epoch 33/100\n",
            "6/6 [==============================] - 0s 7ms/step - loss: 0.0855 - accuracy: 0.9817 - val_loss: 143.5912 - val_accuracy: 0.8302\n",
            "Epoch 34/100\n",
            "6/6 [==============================] - 0s 7ms/step - loss: 0.0799 - accuracy: 0.9832 - val_loss: 140.5736 - val_accuracy: 0.8182\n",
            "Epoch 35/100\n",
            "6/6 [==============================] - 0s 7ms/step - loss: 0.0747 - accuracy: 0.9850 - val_loss: 139.3814 - val_accuracy: 0.8160\n",
            "Epoch 36/100\n",
            "6/6 [==============================] - 0s 7ms/step - loss: 0.0704 - accuracy: 0.9880 - val_loss: 148.0047 - val_accuracy: 0.8248\n",
            "Epoch 37/100\n",
            "6/6 [==============================] - 0s 7ms/step - loss: 0.0661 - accuracy: 0.9880 - val_loss: 151.4621 - val_accuracy: 0.8237\n",
            "Epoch 38/100\n",
            "6/6 [==============================] - 0s 7ms/step - loss: 0.0609 - accuracy: 0.9905 - val_loss: 160.6819 - val_accuracy: 0.8204\n",
            "Epoch 39/100\n",
            "6/6 [==============================] - 0s 7ms/step - loss: 0.0551 - accuracy: 0.9920 - val_loss: 162.9181 - val_accuracy: 0.8226\n",
            "Epoch 40/100\n",
            "6/6 [==============================] - 0s 7ms/step - loss: 0.0514 - accuracy: 0.9934 - val_loss: 165.6823 - val_accuracy: 0.8204\n",
            "Epoch 41/100\n",
            "6/6 [==============================] - 0s 8ms/step - loss: 0.0480 - accuracy: 0.9931 - val_loss: 170.2048 - val_accuracy: 0.8171\n",
            "Epoch 42/100\n",
            "6/6 [==============================] - 0s 6ms/step - loss: 0.0447 - accuracy: 0.9942 - val_loss: 170.3194 - val_accuracy: 0.8204\n",
            "Epoch 43/100\n",
            "6/6 [==============================] - 0s 7ms/step - loss: 0.0412 - accuracy: 0.9956 - val_loss: 176.1712 - val_accuracy: 0.8226\n",
            "Epoch 44/100\n",
            "6/6 [==============================] - 0s 7ms/step - loss: 0.0379 - accuracy: 0.9963 - val_loss: 191.3177 - val_accuracy: 0.8182\n",
            "Epoch 45/100\n",
            "6/6 [==============================] - 0s 7ms/step - loss: 0.0354 - accuracy: 0.9960 - val_loss: 197.1071 - val_accuracy: 0.8182\n",
            "Epoch 46/100\n",
            "6/6 [==============================] - 0s 7ms/step - loss: 0.0326 - accuracy: 0.9963 - val_loss: 196.5553 - val_accuracy: 0.8226\n",
            "Epoch 47/100\n",
            "6/6 [==============================] - 0s 8ms/step - loss: 0.0300 - accuracy: 0.9978 - val_loss: 198.1265 - val_accuracy: 0.8226\n",
            "Epoch 48/100\n",
            "6/6 [==============================] - 0s 7ms/step - loss: 0.0282 - accuracy: 0.9967 - val_loss: 200.5331 - val_accuracy: 0.8280\n",
            "Epoch 49/100\n",
            "6/6 [==============================] - 0s 7ms/step - loss: 0.0263 - accuracy: 0.9971 - val_loss: 206.9556 - val_accuracy: 0.8204\n",
            "Epoch 50/100\n",
            "6/6 [==============================] - 0s 7ms/step - loss: 0.0245 - accuracy: 0.9989 - val_loss: 201.7715 - val_accuracy: 0.8248\n",
            "Epoch 51/100\n",
            "6/6 [==============================] - 0s 7ms/step - loss: 0.0230 - accuracy: 0.9982 - val_loss: 212.3567 - val_accuracy: 0.8248\n",
            "Epoch 52/100\n",
            "6/6 [==============================] - 0s 8ms/step - loss: 0.0215 - accuracy: 0.9993 - val_loss: 209.3956 - val_accuracy: 0.8237\n",
            "Epoch 53/100\n",
            "6/6 [==============================] - 0s 7ms/step - loss: 0.0200 - accuracy: 0.9989 - val_loss: 220.6374 - val_accuracy: 0.8258\n",
            "Epoch 54/100\n",
            "6/6 [==============================] - 0s 7ms/step - loss: 0.0184 - accuracy: 0.9989 - val_loss: 222.6361 - val_accuracy: 0.8237\n",
            "Epoch 55/100\n",
            "6/6 [==============================] - 0s 7ms/step - loss: 0.0170 - accuracy: 0.9989 - val_loss: 229.7433 - val_accuracy: 0.8237\n",
            "Epoch 56/100\n",
            "6/6 [==============================] - 0s 7ms/step - loss: 0.0164 - accuracy: 0.9985 - val_loss: 235.1154 - val_accuracy: 0.8248\n",
            "Epoch 57/100\n",
            "6/6 [==============================] - 0s 7ms/step - loss: 0.0155 - accuracy: 0.9989 - val_loss: 240.2292 - val_accuracy: 0.8269\n",
            "Epoch 58/100\n",
            "6/6 [==============================] - 0s 8ms/step - loss: 0.0144 - accuracy: 0.9993 - val_loss: 246.8056 - val_accuracy: 0.8291\n",
            "Epoch 59/100\n",
            "6/6 [==============================] - 0s 7ms/step - loss: 0.0132 - accuracy: 0.9993 - val_loss: 251.2360 - val_accuracy: 0.8258\n",
            "Epoch 60/100\n",
            "6/6 [==============================] - 0s 7ms/step - loss: 0.0126 - accuracy: 0.9993 - val_loss: 249.6138 - val_accuracy: 0.8258\n",
            "Epoch 61/100\n",
            "6/6 [==============================] - 0s 7ms/step - loss: 0.0118 - accuracy: 0.9996 - val_loss: 251.0031 - val_accuracy: 0.8204\n",
            "Epoch 62/100\n",
            "6/6 [==============================] - 0s 7ms/step - loss: 0.0109 - accuracy: 0.9993 - val_loss: 251.8502 - val_accuracy: 0.8226\n",
            "Epoch 63/100\n",
            "6/6 [==============================] - 0s 8ms/step - loss: 0.0104 - accuracy: 0.9993 - val_loss: 261.0125 - val_accuracy: 0.8280\n",
            "Epoch 64/100\n",
            "6/6 [==============================] - 0s 9ms/step - loss: 0.0100 - accuracy: 0.9993 - val_loss: 265.5847 - val_accuracy: 0.8226\n",
            "Epoch 65/100\n",
            "6/6 [==============================] - 0s 9ms/step - loss: 0.0095 - accuracy: 0.9993 - val_loss: 271.2887 - val_accuracy: 0.8280\n",
            "Epoch 66/100\n",
            "6/6 [==============================] - 0s 8ms/step - loss: 0.0090 - accuracy: 0.9993 - val_loss: 267.3029 - val_accuracy: 0.8258\n",
            "Epoch 67/100\n",
            "6/6 [==============================] - 0s 7ms/step - loss: 0.0099 - accuracy: 0.9989 - val_loss: 270.0042 - val_accuracy: 0.8215\n",
            "Epoch 68/100\n",
            "6/6 [==============================] - 0s 7ms/step - loss: 0.0102 - accuracy: 0.9993 - val_loss: 275.1918 - val_accuracy: 0.8280\n",
            "Epoch 69/100\n",
            "6/6 [==============================] - 0s 9ms/step - loss: 0.0091 - accuracy: 0.9985 - val_loss: 275.0973 - val_accuracy: 0.8269\n",
            "Epoch 70/100\n",
            "6/6 [==============================] - 0s 8ms/step - loss: 0.0083 - accuracy: 0.9985 - val_loss: 274.6003 - val_accuracy: 0.8193\n",
            "Epoch 71/100\n",
            "6/6 [==============================] - 0s 8ms/step - loss: 0.0096 - accuracy: 0.9985 - val_loss: 286.5209 - val_accuracy: 0.8248\n",
            "Epoch 72/100\n",
            "6/6 [==============================] - 0s 9ms/step - loss: 0.0073 - accuracy: 0.9996 - val_loss: 290.7000 - val_accuracy: 0.8269\n",
            "Epoch 73/100\n",
            "6/6 [==============================] - 0s 7ms/step - loss: 0.0067 - accuracy: 0.9993 - val_loss: 295.3635 - val_accuracy: 0.8280\n",
            "Epoch 74/100\n",
            "6/6 [==============================] - 0s 7ms/step - loss: 0.0076 - accuracy: 0.9993 - val_loss: 300.9634 - val_accuracy: 0.8269\n",
            "Epoch 75/100\n",
            "6/6 [==============================] - 0s 8ms/step - loss: 0.0068 - accuracy: 0.9996 - val_loss: 303.9115 - val_accuracy: 0.8269\n",
            "Epoch 76/100\n",
            "6/6 [==============================] - 0s 7ms/step - loss: 0.0060 - accuracy: 1.0000 - val_loss: 298.8311 - val_accuracy: 0.8269\n",
            "Epoch 77/100\n",
            "6/6 [==============================] - 0s 7ms/step - loss: 0.0056 - accuracy: 0.9996 - val_loss: 296.9131 - val_accuracy: 0.8302\n",
            "Epoch 78/100\n",
            "6/6 [==============================] - 0s 8ms/step - loss: 0.0053 - accuracy: 0.9996 - val_loss: 304.6823 - val_accuracy: 0.8291\n",
            "Epoch 79/100\n",
            "6/6 [==============================] - 0s 7ms/step - loss: 0.0052 - accuracy: 0.9989 - val_loss: 312.0699 - val_accuracy: 0.8237\n",
            "Epoch 80/100\n",
            "6/6 [==============================] - 0s 7ms/step - loss: 0.0053 - accuracy: 0.9989 - val_loss: 316.4040 - val_accuracy: 0.8248\n",
            "Epoch 81/100\n",
            "6/6 [==============================] - 0s 8ms/step - loss: 0.0049 - accuracy: 0.9996 - val_loss: 310.7303 - val_accuracy: 0.8313\n",
            "Epoch 82/100\n",
            "6/6 [==============================] - 0s 7ms/step - loss: 0.0043 - accuracy: 0.9996 - val_loss: 311.4841 - val_accuracy: 0.8258\n",
            "Epoch 83/100\n",
            "6/6 [==============================] - 0s 7ms/step - loss: 0.0046 - accuracy: 0.9996 - val_loss: 316.3521 - val_accuracy: 0.8291\n",
            "Epoch 84/100\n",
            "6/6 [==============================] - 0s 11ms/step - loss: 0.0047 - accuracy: 0.9993 - val_loss: 314.1299 - val_accuracy: 0.8313\n",
            "Epoch 85/100\n",
            "6/6 [==============================] - 0s 7ms/step - loss: 0.0043 - accuracy: 0.9993 - val_loss: 321.9649 - val_accuracy: 0.8258\n",
            "Epoch 86/100\n",
            "6/6 [==============================] - 0s 7ms/step - loss: 0.0039 - accuracy: 1.0000 - val_loss: 321.9104 - val_accuracy: 0.8280\n",
            "Epoch 87/100\n",
            "6/6 [==============================] - 0s 7ms/step - loss: 0.0040 - accuracy: 0.9993 - val_loss: 324.7031 - val_accuracy: 0.8313\n",
            "Epoch 88/100\n",
            "6/6 [==============================] - 0s 7ms/step - loss: 0.0039 - accuracy: 0.9996 - val_loss: 332.1699 - val_accuracy: 0.8302\n",
            "Epoch 89/100\n",
            "6/6 [==============================] - 0s 7ms/step - loss: 0.0043 - accuracy: 0.9993 - val_loss: 337.7200 - val_accuracy: 0.8248\n",
            "Epoch 90/100\n",
            "6/6 [==============================] - 0s 7ms/step - loss: 0.0036 - accuracy: 1.0000 - val_loss: 332.7671 - val_accuracy: 0.8313\n",
            "Epoch 91/100\n",
            "6/6 [==============================] - 0s 7ms/step - loss: 0.0038 - accuracy: 0.9993 - val_loss: 337.6273 - val_accuracy: 0.8313\n",
            "Epoch 92/100\n",
            "6/6 [==============================] - 0s 7ms/step - loss: 0.0042 - accuracy: 0.9996 - val_loss: 332.4315 - val_accuracy: 0.8302\n",
            "Epoch 93/100\n",
            "6/6 [==============================] - 0s 9ms/step - loss: 0.0040 - accuracy: 0.9996 - val_loss: 329.8950 - val_accuracy: 0.8291\n",
            "Epoch 94/100\n",
            "6/6 [==============================] - 0s 9ms/step - loss: 0.0054 - accuracy: 0.9989 - val_loss: 350.8757 - val_accuracy: 0.8237\n",
            "Epoch 95/100\n",
            "6/6 [==============================] - 0s 8ms/step - loss: 0.0050 - accuracy: 0.9993 - val_loss: 360.2909 - val_accuracy: 0.8258\n",
            "Epoch 96/100\n",
            "6/6 [==============================] - 0s 7ms/step - loss: 0.0043 - accuracy: 0.9993 - val_loss: 346.0461 - val_accuracy: 0.8269\n",
            "Epoch 97/100\n",
            "6/6 [==============================] - 0s 7ms/step - loss: 0.0031 - accuracy: 0.9996 - val_loss: 346.4480 - val_accuracy: 0.8280\n",
            "Epoch 98/100\n",
            "6/6 [==============================] - 0s 8ms/step - loss: 0.0032 - accuracy: 0.9993 - val_loss: 351.8661 - val_accuracy: 0.8280\n",
            "Epoch 99/100\n",
            "6/6 [==============================] - 0s 7ms/step - loss: 0.0032 - accuracy: 0.9993 - val_loss: 348.5015 - val_accuracy: 0.8302\n",
            "Epoch 100/100\n",
            "6/6 [==============================] - 0s 7ms/step - loss: 0.0032 - accuracy: 0.9993 - val_loss: 356.0495 - val_accuracy: 0.8258\n"
          ]
        }
      ]
    },
    {
      "cell_type": "markdown",
      "metadata": {
        "id": "Ha8webVjzMBM"
      },
      "source": [
        "The accuracy and val accuracy scores are similar to other classification models. I will keep tinkering with the model to see if I can improve on this any more. "
      ]
    },
    {
      "cell_type": "code",
      "metadata": {
        "colab": {
          "base_uri": "https://localhost:8080/"
        },
        "id": "x48uhrBsxGUK",
        "outputId": "f5774c68-b644-43fe-ed39-e1ce8a1e6cb6"
      },
      "source": [
        "model = Sequential()\n",
        "\n",
        "#layer1\n",
        "model.add(Dense(n_input, input_shape= (n_input,) , activation='relu'))\n",
        "\n",
        "#layer 2\n",
        "model.add(Dense(n_input, activation='relu'))\n",
        "\n",
        "#layer 3\n",
        "model.add(Dense(1, activation='sigmoid'))\n",
        "\n",
        "#compile \n",
        "model.compile(loss='binary_crossentropy', metrics=['accuracy'], optimizer='adam')\n",
        "\n",
        "#early stop, monitor val loss\n",
        "early_stop = EarlyStopping(monitor='val_loss', min_delta=0, patience=5, verbose=1, mode='auto')\n",
        "\n",
        "##fit model, attach the callback\n",
        "h = model.fit(X_train_sc, y_train, validation_data = (X_test_sc, y_test), epochs=100, \n",
        "                          batch_size=None, callbacks = [early_stop])"
      ],
      "execution_count": 26,
      "outputs": [
        {
          "output_type": "stream",
          "name": "stdout",
          "text": [
            "Epoch 1/100\n",
            "86/86 [==============================] - 1s 4ms/step - loss: 0.4374 - accuracy: 0.7970 - val_loss: 35.2143 - val_accuracy: 0.8346\n",
            "Epoch 2/100\n",
            "86/86 [==============================] - 0s 2ms/step - loss: 0.3275 - accuracy: 0.8518 - val_loss: 50.3498 - val_accuracy: 0.8324\n",
            "Epoch 3/100\n",
            "86/86 [==============================] - 0s 2ms/step - loss: 0.2731 - accuracy: 0.8777 - val_loss: 71.8628 - val_accuracy: 0.8412\n",
            "Epoch 4/100\n",
            "86/86 [==============================] - 0s 2ms/step - loss: 0.2321 - accuracy: 0.9047 - val_loss: 67.7274 - val_accuracy: 0.8346\n",
            "Epoch 5/100\n",
            "86/86 [==============================] - 0s 2ms/step - loss: 0.1971 - accuracy: 0.9193 - val_loss: 58.7539 - val_accuracy: 0.8390\n",
            "Epoch 6/100\n",
            "86/86 [==============================] - 0s 2ms/step - loss: 0.1646 - accuracy: 0.9379 - val_loss: 70.2463 - val_accuracy: 0.8423\n",
            "Epoch 00006: early stopping\n"
          ]
        }
      ]
    },
    {
      "cell_type": "markdown",
      "metadata": {
        "id": "7bqkETsi0zmy"
      },
      "source": [
        "The accuracy scores slightly improved when early stopping was imlemented but still performing similarly to other classification models. "
      ]
    },
    {
      "cell_type": "code",
      "metadata": {
        "id": "jFmrtiXP0zQp"
      },
      "source": [
        "preds = np.round(model.predict(X_test_sc)).astype(int)"
      ],
      "execution_count": 30,
      "outputs": []
    },
    {
      "cell_type": "code",
      "metadata": {
        "colab": {
          "base_uri": "https://localhost:8080/"
        },
        "id": "3TLekFhYz9pi",
        "outputId": "347adbcc-6fc7-4714-eedb-6098609fdfc5"
      },
      "source": [
        "preds[:5]"
      ],
      "execution_count": 31,
      "outputs": [
        {
          "output_type": "execute_result",
          "data": {
            "text/plain": [
              "array([[0],\n",
              "       [1],\n",
              "       [0],\n",
              "       [0],\n",
              "       [0]])"
            ]
          },
          "metadata": {},
          "execution_count": 31
        }
      ]
    },
    {
      "cell_type": "code",
      "metadata": {
        "colab": {
          "base_uri": "https://localhost:8080/"
        },
        "id": "JoyAlohyz9m-",
        "outputId": "4b0859f8-124b-4981-904b-0a7a4916c3ea"
      },
      "source": [
        "print(classification_report(y_test, preds))"
      ],
      "execution_count": 32,
      "outputs": [
        {
          "output_type": "stream",
          "name": "stdout",
          "text": [
            "              precision    recall  f1-score   support\n",
            "\n",
            "           0       0.90      0.90      0.90       709\n",
            "           1       0.64      0.64      0.64       204\n",
            "\n",
            "    accuracy                           0.84       913\n",
            "   macro avg       0.77      0.77      0.77       913\n",
            "weighted avg       0.84      0.84      0.84       913\n",
            "\n"
          ]
        }
      ]
    },
    {
      "cell_type": "markdown",
      "metadata": {
        "id": "Sy5N5oA41OnL"
      },
      "source": [
        "We can see from the classification report that this model is performing similar to other classification models with accuracy, however precision is lower with 64% on the target class which is not ideal. "
      ]
    },
    {
      "cell_type": "markdown",
      "metadata": {
        "id": "CJxJJ3671Yhq"
      },
      "source": [
        "Below, I will try tweaking the model with more dense layers, dropouts, and early stopping. "
      ]
    },
    {
      "cell_type": "code",
      "metadata": {
        "colab": {
          "base_uri": "https://localhost:8080/"
        },
        "id": "qhmD9_9k1hqS",
        "outputId": "36b87bbd-5027-4cda-dc89-1eecd332ebf7"
      },
      "source": [
        "model_better = Sequential()\n",
        "\n",
        "#layer1\n",
        "model_better.add(Dense(n_input, input_shape= (n_input,) , activation='relu'))\n",
        "\n",
        "#layer 2\n",
        "model_better.add(Dense(80, activation='relu'))\n",
        "model_better.add(Dropout(0.3))\n",
        "\n",
        "#layer 3\n",
        "model_better.add(Dense(n_input, activation='relu'))\n",
        "model_better.add(Dropout(0.3))\n",
        "\n",
        "#layer 4\n",
        "model_better.add(Dense(40, activation='relu'))\n",
        "model_better.add(Dropout(0.3))\n",
        "\n",
        "#layer 5\n",
        "model_better.add(Dense(1, activation='sigmoid'))\n",
        "\n",
        "#compile \n",
        "model_better.compile(loss='binary_crossentropy', metrics=['accuracy'], optimizer='adam')\n",
        "\n",
        "#early stop, monitor val loss\n",
        "early_stop = EarlyStopping(monitor='val_loss', min_delta=0, patience=5, verbose=1, mode='auto')\n",
        "\n",
        "##fit model, attach the callback\n",
        "h = model_better.fit(X_train_sc, y_train, validation_data = (X_test_sc, y_test), epochs=100, \n",
        "                          batch_size=None, callbacks = [early_stop])"
      ],
      "execution_count": 36,
      "outputs": [
        {
          "output_type": "stream",
          "name": "stdout",
          "text": [
            "Epoch 1/100\n",
            "86/86 [==============================] - 1s 3ms/step - loss: 0.5032 - accuracy: 0.7689 - val_loss: 29.6753 - val_accuracy: 0.7864\n",
            "Epoch 2/100\n",
            "86/86 [==============================] - 0s 3ms/step - loss: 0.3990 - accuracy: 0.8039 - val_loss: 49.6552 - val_accuracy: 0.8116\n",
            "Epoch 3/100\n",
            "86/86 [==============================] - 0s 2ms/step - loss: 0.3407 - accuracy: 0.8408 - val_loss: 83.3935 - val_accuracy: 0.8237\n",
            "Epoch 4/100\n",
            "86/86 [==============================] - 0s 2ms/step - loss: 0.2959 - accuracy: 0.8664 - val_loss: 74.0227 - val_accuracy: 0.8269\n",
            "Epoch 5/100\n",
            "86/86 [==============================] - 0s 2ms/step - loss: 0.2613 - accuracy: 0.8832 - val_loss: 94.6854 - val_accuracy: 0.8291\n",
            "Epoch 6/100\n",
            "86/86 [==============================] - 0s 3ms/step - loss: 0.2234 - accuracy: 0.9022 - val_loss: 102.4928 - val_accuracy: 0.8302\n",
            "Epoch 00006: early stopping\n"
          ]
        }
      ]
    },
    {
      "cell_type": "markdown",
      "metadata": {
        "id": "ZlPnj2JO2Cb_"
      },
      "source": [
        "We can see from the scores above that we did not improve on the accuracy any more compared to before. "
      ]
    },
    {
      "cell_type": "code",
      "metadata": {
        "id": "BJDzjV2P6YlC"
      },
      "source": [
        "preds = np.round(model_better.predict(X_test_sc)).astype(int)"
      ],
      "execution_count": 41,
      "outputs": []
    },
    {
      "cell_type": "code",
      "metadata": {
        "colab": {
          "base_uri": "https://localhost:8080/"
        },
        "id": "jW6auevE6YSV",
        "outputId": "6993bedf-b2f9-48e3-8907-edf33d3502a1"
      },
      "source": [
        "print(classification_report(y_test, preds))"
      ],
      "execution_count": 42,
      "outputs": [
        {
          "output_type": "stream",
          "name": "stdout",
          "text": [
            "              precision    recall  f1-score   support\n",
            "\n",
            "           0       0.89      0.89      0.89       709\n",
            "           1       0.62      0.62      0.62       204\n",
            "\n",
            "    accuracy                           0.83       913\n",
            "   macro avg       0.76      0.76      0.76       913\n",
            "weighted avg       0.83      0.83      0.83       913\n",
            "\n"
          ]
        }
      ]
    },
    {
      "cell_type": "markdown",
      "metadata": {
        "id": "ZDSEKbQL5lKc"
      },
      "source": [
        "Below are plots of the accuracy scores for training and testing to visualize what is happening over epochs. "
      ]
    },
    {
      "cell_type": "code",
      "metadata": {
        "colab": {
          "base_uri": "https://localhost:8080/",
          "height": 265
        },
        "id": "XKHrjPo31hmi",
        "outputId": "68c3cd08-a807-4767-93d7-e06fe760a61b"
      },
      "source": [
        "plt.plot(h.history['accuracy'], label = 'Train acc')\n",
        "plt.plot(h.history['val_accuracy'], label = 'Val acc')\n",
        "plt.legend();"
      ],
      "execution_count": 38,
      "outputs": [
        {
          "output_type": "display_data",
          "data": {
            "image/png": "[encoded data removed]",
            "text/plain": [
              "<Figure size 432x288 with 1 Axes>"
            ]
          },
          "metadata": {
            "needs_background": "light"
          }
        }
      ]
    },
    {
      "cell_type": "markdown",
      "metadata": {
        "id": "WjKKYmcz6Aaa"
      },
      "source": [
        "Overall, the neural network classification models were not able to perform as well as the extra trees classifier with accuracy and precision scores. It was good to test the neural network classification model as an option since it is so powerful but ultimately will not use this as the productio model. "
      ]
    }
  ]
}