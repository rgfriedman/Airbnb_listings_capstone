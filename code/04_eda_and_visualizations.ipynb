{
 "cells": [
  {
   "cell_type": "code",
   "execution_count": null,
   "id": "4a4d3e6e",
   "metadata": {},
   "outputs": [],
   "source": []
  },
  {
   "cell_type": "code",
   "execution_count": null,
   "id": "386083f7",
   "metadata": {},
   "outputs": [],
   "source": [
    "#heat map of varialbes"
   ]
  },
  {
   "cell_type": "code",
   "execution_count": null,
   "id": "243c33b8",
   "metadata": {},
   "outputs": [],
   "source": [
    "#geo data for maps? lat lon on map?"
   ]
  },
  {
   "cell_type": "code",
   "execution_count": null,
   "id": "85f637b4",
   "metadata": {},
   "outputs": [],
   "source": [
    "with open('../data/Neighborhood_Clusters.geojson') as f:\n",
    "    dc_data = json.load(f)"
   ]
  },
  {
   "cell_type": "code",
   "execution_count": null,
   "id": "e2928f53",
   "metadata": {},
   "outputs": [],
   "source": [
    "dc_data"
   ]
  },
  {
   "cell_type": "code",
   "execution_count": null,
   "id": "59cfff15",
   "metadata": {},
   "outputs": [],
   "source": []
  },
  {
   "cell_type": "code",
   "execution_count": null,
   "id": "33b065d3",
   "metadata": {},
   "outputs": [],
   "source": []
  },
  {
   "cell_type": "code",
   "execution_count": null,
   "id": "2a7d2e40",
   "metadata": {},
   "outputs": [],
   "source": []
  }
 ],
 "metadata": {
  "kernelspec": {
   "display_name": "Python 3",
   "language": "python",
   "name": "python3"
  },
  "language_info": {
   "codemirror_mode": {
    "name": "ipython",
    "version": 3
   },
   "file_extension": ".py",
   "mimetype": "text/x-python",
   "name": "python",
   "nbconvert_exporter": "python",
   "pygments_lexer": "ipython3",
   "version": "3.8.8"
  }
 },
 "nbformat": 4,
 "nbformat_minor": 5
}
