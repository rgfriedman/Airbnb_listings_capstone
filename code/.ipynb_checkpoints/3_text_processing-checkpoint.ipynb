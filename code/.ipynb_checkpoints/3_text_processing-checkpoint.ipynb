{
 "cells": [
  {
   "cell_type": "markdown",
   "id": "47f56f8a",
   "metadata": {},
   "source": [
    "## Airbnb DC Hosting Helper ##"
   ]
  },
  {
   "cell_type": "markdown",
   "id": "c5457b8b",
   "metadata": {},
   "source": [
    "## 3_text_processing ##"
   ]
  },
  {
   "cell_type": "markdown",
   "id": "59c31a78",
   "metadata": {},
   "source": [
    "### Summary ###\n",
    "\n",
    "In this notebook, I will be turning raw text data into informative data for a listing. I will be working with what the host provided for name of the listing, its description, the neighborhood overview, about the host, and amenities."
   ]
  },
  {
   "cell_type": "markdown",
   "id": "44881d65",
   "metadata": {},
   "source": [
    "Import libraries and read in data"
   ]
  },
  {
   "cell_type": "code",
   "execution_count": 1,
   "id": "10704df8",
   "metadata": {},
   "outputs": [],
   "source": [
    "import numpy as np\n",
    "import pandas as pd\n",
    "import matplotlib.pyplot as plt\n",
    "import seaborn as sns\n",
    "import json, requests"
   ]
  },
  {
   "cell_type": "code",
   "execution_count": 2,
   "id": "aa1ff116",
   "metadata": {},
   "outputs": [],
   "source": [
    "np.random.seed(100)"
   ]
  },
  {
   "cell_type": "code",
   "execution_count": 3,
   "id": "ae14d762",
   "metadata": {},
   "outputs": [],
   "source": [
    "pd.set_option('display.max_columns', 300)"
   ]
  },
  {
   "cell_type": "code",
   "execution_count": 4,
   "id": "5bf05616",
   "metadata": {},
   "outputs": [],
   "source": [
    "pd.set_option('display.max_rows', 300)"
   ]
  },
  {
   "cell_type": "code",
   "execution_count": 5,
   "id": "12fd5175",
   "metadata": {},
   "outputs": [],
   "source": [
    "df = pd.read_csv('../data/cleaned_numerical_df.csv')"
   ]
  },
  {
   "cell_type": "code",
   "execution_count": 6,
   "id": "d16a7cb2",
   "metadata": {},
   "outputs": [
    {
     "name": "stdout",
     "output_type": "stream",
     "text": [
      "<class 'pandas.core.frame.DataFrame'>\n",
      "RangeIndex: 3652 entries, 0 to 3651\n",
      "Data columns (total 49 columns):\n",
      " #   Column                          Non-Null Count  Dtype  \n",
      "---  ------                          --------------  -----  \n",
      " 0   Unnamed: 0                      3652 non-null   int64  \n",
      " 1   index                           3652 non-null   int64  \n",
      " 2   id                              3652 non-null   int64  \n",
      " 3   name                            3652 non-null   object \n",
      " 4   description                     3609 non-null   object \n",
      " 5   neighborhood_overview           2796 non-null   object \n",
      " 6   host_id                         3652 non-null   int64  \n",
      " 7   host_about                      2538 non-null   object \n",
      " 8   host_response_time              3652 non-null   object \n",
      " 9   host_response_rate              3652 non-null   float64\n",
      " 10  host_acceptance_rate            3652 non-null   float64\n",
      " 11  host_is_superhost               3652 non-null   int64  \n",
      " 12  host_has_profile_pic            3652 non-null   int64  \n",
      " 13  host_identity_verified          3652 non-null   int64  \n",
      " 14  neighbourhood_cleansed          3652 non-null   object \n",
      " 15  latitude_x                      3652 non-null   float64\n",
      " 16  longitude_x                     3652 non-null   float64\n",
      " 17  room_type                       3652 non-null   object \n",
      " 18  accommodates                    3652 non-null   int64  \n",
      " 19  bathrooms                       3652 non-null   float64\n",
      " 20  bedrooms                        3652 non-null   float64\n",
      " 21  beds                            3652 non-null   float64\n",
      " 22  amenities                       3652 non-null   object \n",
      " 23  price                           3652 non-null   float64\n",
      " 24  minimum_nights                  3652 non-null   int64  \n",
      " 25  maximum_nights                  3652 non-null   int64  \n",
      " 26  minimum_nights_avg_ntm          3652 non-null   float64\n",
      " 27  maximum_nights_avg_ntm          3652 non-null   float64\n",
      " 28  availability_30                 3652 non-null   int64  \n",
      " 29  availability_60                 3652 non-null   int64  \n",
      " 30  availability_90                 3652 non-null   int64  \n",
      " 31  availability_365                3652 non-null   int64  \n",
      " 32  instant_bookable                3652 non-null   int64  \n",
      " 33  calculated_host_listings_count  3652 non-null   int64  \n",
      " 34  historic site                   3652 non-null   int64  \n",
      " 35  museum                          3652 non-null   int64  \n",
      " 36  metro                           3652 non-null   int64  \n",
      " 37  music venue                     3652 non-null   int64  \n",
      " 38  perfomring arts venue           3652 non-null   int64  \n",
      " 39  college and university          3652 non-null   int64  \n",
      " 40  food                            3652 non-null   int64  \n",
      " 41  nightlife spot                  3652 non-null   int64  \n",
      " 42  outdoors and recreation         3652 non-null   int64  \n",
      " 43  government building             3652 non-null   int64  \n",
      " 44  clothing store                  3652 non-null   int64  \n",
      " 45  popular                         3652 non-null   int64  \n",
      " 46  days_being_host                 3652 non-null   object \n",
      " 47  days_since_first_review         3652 non-null   object \n",
      " 48  days_since_last_review          3652 non-null   object \n",
      "dtypes: float64(10), int64(28), object(11)\n",
      "memory usage: 1.4+ MB\n"
     ]
    }
   ],
   "source": [
    "df.info()"
   ]
  },
  {
   "cell_type": "code",
   "execution_count": null,
   "id": "0d925ba3",
   "metadata": {},
   "outputs": [],
   "source": []
  },
  {
   "cell_type": "code",
   "execution_count": null,
   "id": "4f7b5e16",
   "metadata": {},
   "outputs": [],
   "source": []
  },
  {
   "cell_type": "markdown",
   "id": "273af21e",
   "metadata": {},
   "source": [
    "chucks advice for amenities:\n",
    "\n",
    "create a function to loop through list and get a print out of each amenity,\n",
    "\n",
    "get a set to only have unique values of amenity,\n",
    "\n",
    "loop through and count the top 10 or 20 and make new columns"
   ]
  },
  {
   "cell_type": "code",
   "execution_count": null,
   "id": "3563b705",
   "metadata": {},
   "outputs": [],
   "source": []
  }
 ],
 "metadata": {
  "kernelspec": {
   "display_name": "Python 3",
   "language": "python",
   "name": "python3"
  },
  "language_info": {
   "codemirror_mode": {
    "name": "ipython",
    "version": 3
   },
   "file_extension": ".py",
   "mimetype": "text/x-python",
   "name": "python",
   "nbconvert_exporter": "python",
   "pygments_lexer": "ipython3",
   "version": "3.8.8"
  }
 },
 "nbformat": 4,
 "nbformat_minor": 5
}
